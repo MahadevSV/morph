{
 "cells": [
  {
   "cell_type": "code",
   "execution_count": null,
   "metadata": {},
   "outputs": [],
   "source": [
    "#https://github.com/hridayns/Grid-Removal-using-OpenCV"
   ]
  },
  {
   "cell_type": "code",
   "execution_count": 1,
   "metadata": {},
   "outputs": [],
   "source": [
    "import cv2\n",
    "import numpy as np"
   ]
  },
  {
   "cell_type": "code",
   "execution_count": 2,
   "metadata": {},
   "outputs": [],
   "source": [
    "hor = 1\n",
    "ver = 5"
   ]
  },
  {
   "cell_type": "code",
   "execution_count": 3,
   "metadata": {},
   "outputs": [],
   "source": [
    "def rmline():\n",
    "    img = cv2.imread(r\"E:\\myWork\\morphology\\mtd2\\ip\\1.jpg\")\n",
    "    # edges = cv2.Canny(img,100,110)\n",
    "\n",
    "    # masked_data = cv2.bitwise_and(img, img, mask=edges)\n",
    "    kernel = np.ones((hor,ver),np.uint8)\n",
    "    # closing = cv2.morphologyEx(img, cv2.MORPH_CLOSE, kernel)\n",
    "    dilation = cv2.dilate(img,kernel,iterations = 1)\n",
    "    # inpain = cv2.inpaint(img,masked_data,10,cv2.INPAINT_NS)\n",
    "    # opening = cv2.morphologyEx(img, cv2.MORPH_OPEN, kernel)\n",
    "    # erosion = cv2.erode(img,kernel,iterations = 1)\n",
    "    # gradient = cv2.morphologyEx(img, cv2.MORPH_GRADIENT, kernel)\n",
    "    # tophat = cv2.morphologyEx(img, cv2.MORPH_TOPHAT, kernel)\n",
    "    # blackhat = cv2.morphologyEx(img, cv2.MORPH_BLACKHAT, kernel)\n",
    "\n",
    "    # cv2.imwrite('./mayo/closing.png',closing)\n",
    "    cv2.imwrite(r\"E:\\myWork\\morphology\\mtd2\\op\\1.jpg\",dilation)"
   ]
  },
  {
   "cell_type": "code",
   "execution_count": 4,
   "metadata": {},
   "outputs": [],
   "source": [
    "from tkinter import *\n",
    "from PIL import ImageTk, Image"
   ]
  },
  {
   "cell_type": "code",
   "execution_count": 5,
   "metadata": {},
   "outputs": [],
   "source": [
    "# root = Tk()\n",
    "# canvas = Canvas(root, width=2000, height=2000)\n",
    "# canvas.pack()\n",
    "# img = ImageTk.PhotoImage(Image.open(r\"E:\\myWork\\morphology\\mtd2\\ip\\1.jpg\"))\n",
    "# aa = canvas.create_image(20, 20, anchor=NW, image=img)\n",
    "# root.mainloop()"
   ]
  },
  {
   "cell_type": "code",
   "execution_count": 24,
   "metadata": {},
   "outputs": [],
   "source": [
    "def show_val():\n",
    "    hor = w2.get()\n",
    "    ver = w1.get()\n",
    "    print(hor,ver)\n",
    "    img = cv2.imread(r\"E:\\myWork\\morphology\\mtd2\\ip\\1.jpg\")\n",
    "    kernel = np.ones((hor,ver),np.uint8)\n",
    "    dilation = cv2.dilate(img,kernel,iterations = 1)\n",
    "    cv2.imwrite(r\"E:\\myWork\\morphology\\mtd2\\op\\1.jpg\",dilation)\n",
    "    \n",
    "    \n",
    "    canvas = Canvas(root, width=2000, height=2000)\n",
    "    canvas.pack()\n",
    "    img = ImageTk.PhotoImage(Image.open(r\"E:\\myWork\\morphology\\mtd2\\op\\1.jpg\"))\n",
    "    canvas.create_image(20, 20, anchor=NW, image=img)\n",
    "    print(\"----------------\")"
   ]
  },
  {
   "cell_type": "code",
   "execution_count": 25,
   "metadata": {},
   "outputs": [
    {
     "name": "stdout",
     "output_type": "stream",
     "text": [
      "9 4\n",
      "----------------\n"
     ]
    }
   ],
   "source": [
    "root = Tk()\n",
    "\n",
    "w1 = Scale(root, from_=0, to=50, orient=HORIZONTAL)\n",
    "w1.pack()\n",
    "\n",
    "w2 = Scale(root, from_=0, to=50, orient=HORIZONTAL)\n",
    "w2.pack()\n",
    "\n",
    "Button(root, text=\"show\", command=show_val).pack()\n",
    "\n",
    "\n",
    "# canvas = Canvas(root, width=2000, height=2000)\n",
    "# canvas.pack()\n",
    "# rmline()\n",
    "# img = ImageTk.PhotoImage(Image.open(r\"E:\\myWork\\morphology\\mtd2\\op\\1.jpg\"))\n",
    "# canvas.create_image(20, 20, anchor=NW, image=img)\n",
    "root.mainloop()"
   ]
  },
  {
   "cell_type": "code",
   "execution_count": null,
   "metadata": {},
   "outputs": [],
   "source": []
  }
 ],
 "metadata": {
  "kernelspec": {
   "display_name": "Python 3",
   "language": "python",
   "name": "python3"
  },
  "language_info": {
   "codemirror_mode": {
    "name": "ipython",
    "version": 3
   },
   "file_extension": ".py",
   "mimetype": "text/x-python",
   "name": "python",
   "nbconvert_exporter": "python",
   "pygments_lexer": "ipython3",
   "version": "3.7.6"
  }
 },
 "nbformat": 4,
 "nbformat_minor": 4
}
